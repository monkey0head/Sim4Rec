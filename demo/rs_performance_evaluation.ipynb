{
 "cells": [
  {
   "cell_type": "markdown",
   "metadata": {
    "cellId": "5nmr5qtyi4l6dv4003f5hk",
    "execution_id": "b4c3a56f-dd79-4dc8-9c15-e451a726c6d8"
   },
   "source": [
    "# RS evaluation with a custom response model"
   ]
  },
  {
   "cell_type": "markdown",
   "metadata": {
    "cellId": "4st89ea75i9z0offn8c4d",
    "execution_id": "69ada54d-c332-4dd2-9b9a-72f16d1bfb76"
   },
   "source": [
    "This tutorial shows how to create custom response function and use it in Sim4Rec.\n",
    "\n",
    "\n",
    "### Users\n",
    "5000 anonymous users\n",
    "\n",
    "### Items\n",
    "100 items\n",
    "\n",
    "### Response function\n",
    "Users are more likely to choose the most popular items.\n"
   ]
  },
  {
   "cell_type": "markdown",
   "metadata": {
    "cellId": "a23y5u7l746q73y0tqxss",
    "execution_id": "b0740c39-9cda-411d-b832-490de8695080"
   },
   "source": [
    "## Imports and preparations"
   ]
  },
  {
   "cell_type": "code",
   "execution_count": 1,
   "metadata": {},
   "outputs": [],
   "source": [
    "import os\n",
    "import sys\n",
    "os.environ[\"JAVA_HOME\"] = \"/home/jovyan/volodkevich/smm_pomi_pylot/av_env39_smm/lib/jvm\"\n",
    "os.environ[\"PYSPARK_PYTHON\"] = sys.executable\n",
    "os.environ[\"PYSPARK_DRIVER_PYTHON\"] = sys.executable\n",
    "os.environ[\"CUDA_LAUNCH_BLOCKING\"] = \"1\"\n",
    "os.environ[\"OMP_NUM_THREADS\"] = \"32\"\n",
    "os.environ[\"NUMBA_NUM_THREADS\"] = \"4\""
   ]
  },
  {
   "cell_type": "code",
   "execution_count": 5,
   "metadata": {
    "cellId": "jlz0twee16goe1fisulv5"
   },
   "outputs": [],
   "source": [
    "import random\n",
    "import time\n",
    "\n",
    "import numpy as np\n",
    "import pandas as pd\n",
    "import warnings\n",
    "\n",
    "from pyspark import SparkConf\n",
    "from pyspark.ml import Pipeline\n",
    "from pyspark.sql import SparkSession\n",
    "import pyspark.sql.functions as sf\n",
    "from replay.models import UCB\n",
    "\n",
    "from experiments.response_models.utils import plot_metric, calc_metric\n",
    "from sim4rec.modules import RealDataGenerator\n",
    "from sim4rec.modules import Simulator\n",
    "from sim4rec.response import BernoulliResponse,  ActionModelTransformer\n",
    "\n",
    "warnings.filterwarnings(\"ignore\") "
   ]
  },
  {
   "cell_type": "code",
   "execution_count": 6,
   "metadata": {},
   "outputs": [],
   "source": [
    "# path to spark tmp folder and simulator checkpoints\n",
    "SPARK_LOCAL_DIR = './tmp/task_1'\n",
    "CHECKPOINT_DIR = './tmp/task_1_checkpoints'"
   ]
  },
  {
   "cell_type": "code",
   "execution_count": 7,
   "metadata": {
    "cellId": "ku55idy38nqtlrc187ucq"
   },
   "outputs": [],
   "source": [
    "%%bash -s \"$CHECKPOINT_DIR\" \"$SPARK_LOCAL_DIR\"\n",
    "# simulator saves the interaction history between users and recommender system\n",
    "# to rerun the simulation cycle or begin a new one, clear the directory or use another CHECKPOINT_DIR\n",
    "rm -rf $1 $2"
   ]
  },
  {
   "cell_type": "code",
   "execution_count": 8,
   "metadata": {
    "cellId": "v1uc08ym8h8d7qxpmsop4"
   },
   "outputs": [
    {
     "name": "stderr",
     "output_type": "stream",
     "text": [
      "WARNING: An illegal reflective access operation has occurred\n",
      "WARNING: Illegal reflective access by org.apache.spark.unsafe.Platform (file:/home/jovyan/ivanova/env39_sim4rec_demo_new/lib/python3.9/site-packages/pyspark/jars/spark-unsafe_2.12-3.1.3.jar) to constructor java.nio.DirectByteBuffer(long,int)\n",
      "WARNING: Please consider reporting this to the maintainers of org.apache.spark.unsafe.Platform\n",
      "WARNING: Use --illegal-access=warn to enable warnings of further illegal reflective access operations\n",
      "WARNING: All illegal access operations will be denied in a future release\n",
      "24/08/12 13:41:25 WARN NativeCodeLoader: Unable to load native-hadoop library for your platform... using builtin-java classes where applicable\n",
      "Using Spark's default log4j profile: org/apache/spark/log4j-defaults.properties\n",
      "Setting default log level to \"WARN\".\n",
      "To adjust logging level use sc.setLogLevel(newLevel). For SparkR, use setLogLevel(newLevel).\n",
      "24/08/12 13:41:25 WARN SparkConf: Note that spark.local.dir will be overridden by the value set by the cluster manager (via SPARK_LOCAL_DIRS in mesos/standalone/kubernetes and LOCAL_DIRS in YARN).\n",
      "24/08/12 13:41:26 WARN Utils: Service 'SparkUI' could not bind on port 4040. Attempting port 4041.\n"
     ]
    }
   ],
   "source": [
    "NUM_THREADS = 4\n",
    "\n",
    "spark = SparkSession.builder\\\n",
    "    .appName('simulator')\\\n",
    "    .master(f'local[{NUM_THREADS}]')\\\n",
    "    .config('spark.sql.shuffle.partitions', f'{NUM_THREADS * 3}')\\\n",
    "    .config('spark.default.parallelism', f'{NUM_THREADS * 3}')\\\n",
    "    .config('spark.driver.extraJavaOptions', '-XX:+UseG1GC')\\\n",
    "    .config('spark.executor.extraJavaOptions', '-XX:+UseG1GC')\\\n",
    "    .config('spark.local.dir', SPARK_LOCAL_DIR)\\\n",
    "    .getOrCreate()\n",
    "\n",
    "spark.sparkContext.setLogLevel('ERROR')"
   ]
  },
  {
   "cell_type": "code",
   "execution_count": 9,
   "metadata": {
    "cellId": "9vf3sqixr4vgau073549pv"
   },
   "outputs": [],
   "source": [
    "NUM_USERS = 5000\n",
    "NUM_ITEMS = 100 # number of recommendations generated by RS per user per one iteration\n",
    "K = 5 # number of iterations\n",
    "NUM_ITER = 5\n",
    "SEED = 1234\n",
    "np.random.seed(SEED)"
   ]
  },
  {
   "cell_type": "markdown",
   "metadata": {
    "cellId": "ffl9l89trncxzwbk5zq7gn",
    "execution_id": "cbbf5328-af84-4368-957e-3c000bd80332"
   },
   "source": [
    "## Data"
   ]
  },
  {
   "cell_type": "code",
   "execution_count": 10,
   "metadata": {
    "cellId": "zh9qtijcn5143mi4887od"
   },
   "outputs": [
    {
     "name": "stderr",
     "output_type": "stream",
     "text": [
      "                                                                                \r"
     ]
    },
    {
     "data": {
      "text/plain": [
       "200"
      ]
     },
     "execution_count": 10,
     "metadata": {},
     "output_type": "execute_result"
    }
   ],
   "source": [
    "users = spark.createDataFrame([[x] for x in range(NUM_USERS * 2)], schema=[\"user_idx\"])\n",
    "items = spark.createDataFrame([[x] for x in range(NUM_ITEMS * 2)], schema=[\"item_idx\"])\n",
    "items.count()"
   ]
  },
  {
   "cell_type": "code",
   "execution_count": 11,
   "metadata": {},
   "outputs": [
    {
     "data": {
      "text/html": [
       "<div>\n",
       "<style scoped>\n",
       "    .dataframe tbody tr th:only-of-type {\n",
       "        vertical-align: middle;\n",
       "    }\n",
       "\n",
       "    .dataframe tbody tr th {\n",
       "        vertical-align: top;\n",
       "    }\n",
       "\n",
       "    .dataframe thead th {\n",
       "        text-align: right;\n",
       "    }\n",
       "</style>\n",
       "<table border=\"1\" class=\"dataframe\">\n",
       "  <thead>\n",
       "    <tr style=\"text-align: right;\">\n",
       "      <th></th>\n",
       "      <th>item_idx</th>\n",
       "    </tr>\n",
       "  </thead>\n",
       "  <tbody>\n",
       "    <tr>\n",
       "      <th>0</th>\n",
       "      <td>0</td>\n",
       "    </tr>\n",
       "    <tr>\n",
       "      <th>1</th>\n",
       "      <td>1</td>\n",
       "    </tr>\n",
       "  </tbody>\n",
       "</table>\n",
       "</div>"
      ],
      "text/plain": [
       "   item_idx\n",
       "0         0\n",
       "1         1"
      ]
     },
     "execution_count": 11,
     "metadata": {},
     "output_type": "execute_result"
    }
   ],
   "source": [
    "items.limit(2).toPandas()"
   ]
  },
  {
   "cell_type": "code",
   "execution_count": 12,
   "metadata": {
    "cellId": "3btpzal8hblukqhq46asd"
   },
   "outputs": [
    {
     "data": {
      "text/plain": [
       "100"
      ]
     },
     "execution_count": 12,
     "metadata": {},
     "output_type": "execute_result"
    }
   ],
   "source": [
    "item_generator = RealDataGenerator(label='items_real', seed=SEED)\n",
    "user_generator = RealDataGenerator(label='users_real', seed=SEED)\n",
    "\n",
    "item_generator.fit(items)\n",
    "user_generator.fit(users)\n",
    "\n",
    "item_generator.generate(NUM_ITEMS)\n",
    "user_generator.generate(NUM_USERS)\n",
    "item_generator.getDataSize()"
   ]
  },
  {
   "cell_type": "markdown",
   "metadata": {
    "cellId": "1crcvslqi2qm4dnavh3obq",
    "execution_id": "2c640f43-9dd5-445d-9511-d0d100fc830c"
   },
   "source": [
    "# One iteration of simulation cycle step by step"
   ]
  },
  {
   "cell_type": "markdown",
   "metadata": {
    "cellId": "q2oio9pylodwwu9qptdom",
    "execution_id": "0f252faf-52c4-4a99-ac83-b425c14d055e"
   },
   "source": [
    "## (1) Choise of users"
   ]
  },
  {
   "cell_type": "code",
   "execution_count": 13,
   "metadata": {
    "cellId": "erkzmjzvo06nl5bok1qv5n"
   },
   "outputs": [
    {
     "data": {
      "text/plain": [
       "504"
      ]
     },
     "execution_count": 13,
     "metadata": {},
     "output_type": "execute_result"
    }
   ],
   "source": [
    "user_generator.sample(0.1).count()"
   ]
  },
  {
   "cell_type": "markdown",
   "metadata": {
    "cellId": "tnbcus0l6hcbvoht2rnge",
    "execution_id": "a45bc1e9-f284-4702-bfeb-d525f9349d20"
   },
   "source": [
    "## (2) Choise of items\n",
    "During the simulation cycle all 100 items will be available at each iteration."
   ]
  },
  {
   "cell_type": "markdown",
   "metadata": {
    "cellId": "4kfl2on9vg46431mkek4ot",
    "execution_id": "85a06070-5f73-407a-ad84-ff781e7d04fb"
   },
   "source": [
    "## (3) Initialization of recommender model"
   ]
  },
  {
   "cell_type": "markdown",
   "metadata": {
    "cellId": "p7qktnabe0pupwrpgo1vu",
    "execution_id": "4f4957f4-cea9-47fe-9140-95dafb48e159"
   },
   "source": [
    "### Baseline"
   ]
  },
  {
   "cell_type": "code",
   "execution_count": 15,
   "metadata": {
    "cellId": "kck71xz164nwlq1tlo81d"
   },
   "outputs": [
    {
     "name": "stderr",
     "output_type": "stream",
     "text": [
      "                                                                                \r"
     ]
    },
    {
     "data": {
      "text/html": [
       "<div>\n",
       "<style scoped>\n",
       "    .dataframe tbody tr th:only-of-type {\n",
       "        vertical-align: middle;\n",
       "    }\n",
       "\n",
       "    .dataframe tbody tr th {\n",
       "        vertical-align: top;\n",
       "    }\n",
       "\n",
       "    .dataframe thead th {\n",
       "        text-align: right;\n",
       "    }\n",
       "</style>\n",
       "<table border=\"1\" class=\"dataframe\">\n",
       "  <thead>\n",
       "    <tr style=\"text-align: right;\">\n",
       "      <th></th>\n",
       "      <th>user_idx</th>\n",
       "      <th>item_idx</th>\n",
       "      <th>relevance</th>\n",
       "    </tr>\n",
       "  </thead>\n",
       "  <tbody>\n",
       "    <tr>\n",
       "      <th>0</th>\n",
       "      <td>0</td>\n",
       "      <td>54</td>\n",
       "      <td>0.005</td>\n",
       "    </tr>\n",
       "    <tr>\n",
       "      <th>1</th>\n",
       "      <td>0</td>\n",
       "      <td>155</td>\n",
       "      <td>0.005</td>\n",
       "    </tr>\n",
       "    <tr>\n",
       "      <th>2</th>\n",
       "      <td>1</td>\n",
       "      <td>10</td>\n",
       "      <td>0.005</td>\n",
       "    </tr>\n",
       "    <tr>\n",
       "      <th>3</th>\n",
       "      <td>1</td>\n",
       "      <td>16</td>\n",
       "      <td>0.005</td>\n",
       "    </tr>\n",
       "  </tbody>\n",
       "</table>\n",
       "</div>"
      ],
      "text/plain": [
       "   user_idx  item_idx  relevance\n",
       "0         0        54      0.005\n",
       "1         0       155      0.005\n",
       "2         1        10      0.005\n",
       "3         1        16      0.005"
      ]
     },
     "execution_count": 15,
     "metadata": {},
     "output_type": "execute_result"
    }
   ],
   "source": [
    "# RePlay model should be fitted on historic data before it can be refitted in cycle\n",
    "# Let's assume we had one interaction for simplicity\n",
    "model = UCB(sample=True, seed=SEED, exploration_coef=0.1)\n",
    "model.fit(\n",
    "    log=users.limit(1).crossJoin(items.limit(1)).withColumn(\"relevance\", sf.lit(1))\n",
    ")\n",
    "pred = model.predict(log=None, users=users.limit(2), items=items, k=2)\n",
    "pred.limit(5).toPandas()"
   ]
  },
  {
   "cell_type": "markdown",
   "metadata": {
    "cellId": "6tn53xv939c0ph8cth3961",
    "execution_id": "2c95f94f-97cc-4007-a971-d340645e0f90"
   },
   "source": [
    "## (4) Response Function"
   ]
  },
  {
   "cell_type": "markdown",
   "metadata": {
    "cellId": "7m11axprgbnc8wgrnr20km",
    "execution_id": "1bf409d8-8df8-4ff6-a96d-eab7b07f54d8"
   },
   "source": [
    "The response function in this tutorial is very simple. The response is binary, response == 1 means the user bought the item.  \n",
    "The probability of response is one tenth of the last digit of an `item_idx`. The response function is constant over time.\n",
    "\n",
    "Response function gets dataframe with columns `user_idx`, `item_idx`, `relevance`, and returns dataframe with columns `user_idx`, `item_idx`, `relevance`, `response`, adding the response column to the initial ones. If the initial dataframe had some other columns, these will also be returned."
   ]
  },
  {
   "cell_type": "code",
   "execution_count": 17,
   "metadata": {
    "tags": []
   },
   "outputs": [
    {
     "data": {
      "text/html": [
       "<div>\n",
       "<style scoped>\n",
       "    .dataframe tbody tr th:only-of-type {\n",
       "        vertical-align: middle;\n",
       "    }\n",
       "\n",
       "    .dataframe tbody tr th {\n",
       "        vertical-align: top;\n",
       "    }\n",
       "\n",
       "    .dataframe thead th {\n",
       "        text-align: right;\n",
       "    }\n",
       "</style>\n",
       "<table border=\"1\" class=\"dataframe\">\n",
       "  <thead>\n",
       "    <tr style=\"text-align: right;\">\n",
       "      <th></th>\n",
       "      <th>item_idx</th>\n",
       "      <th>response_proba</th>\n",
       "    </tr>\n",
       "  </thead>\n",
       "  <tbody>\n",
       "    <tr>\n",
       "      <th>0</th>\n",
       "      <td>0</td>\n",
       "      <td>0.0</td>\n",
       "    </tr>\n",
       "    <tr>\n",
       "      <th>1</th>\n",
       "      <td>1</td>\n",
       "      <td>0.1</td>\n",
       "    </tr>\n",
       "    <tr>\n",
       "      <th>2</th>\n",
       "      <td>2</td>\n",
       "      <td>0.2</td>\n",
       "    </tr>\n",
       "    <tr>\n",
       "      <th>3</th>\n",
       "      <td>3</td>\n",
       "      <td>0.3</td>\n",
       "    </tr>\n",
       "    <tr>\n",
       "      <th>4</th>\n",
       "      <td>4</td>\n",
       "      <td>0.4</td>\n",
       "    </tr>\n",
       "  </tbody>\n",
       "</table>\n",
       "</div>"
      ],
      "text/plain": [
       "   item_idx  response_proba\n",
       "0         0             0.0\n",
       "1         1             0.1\n",
       "2         2             0.2\n",
       "3         3             0.3\n",
       "4         4             0.4"
      ]
     },
     "execution_count": 17,
     "metadata": {},
     "output_type": "execute_result"
    }
   ],
   "source": [
    "items.limit(5).withColumn(\n",
    "    \"response_proba\", (sf.col(\"item_idx\") % sf.lit(10)) / sf.lit(10)\n",
    ").toPandas()"
   ]
  },
  {
   "cell_type": "code",
   "execution_count": 18,
   "metadata": {},
   "outputs": [],
   "source": [
    "class PopBasedTransformer(ActionModelTransformer):\n",
    "    def __init__(\n",
    "        self,\n",
    "        inputCol: str = None,\n",
    "        outputCol: str = None,\n",
    "    ):\n",
    "        \"\"\"\n",
    "        Class for the response function. \n",
    "        The probability of response is one tenth of the last digit of an item_idx.\n",
    "        :param inputCol: Name of the item_id column\n",
    "        :param outputCol: Name of the response probability column\n",
    "        :returns: dataframe with response_proba col\n",
    "        \"\"\"\n",
    "        self.inputCol = inputCol\n",
    "        self.outputCol = outputCol\n",
    "\n",
    "    def _transform(self, dataframe):\n",
    "        return dataframe.withColumn(\n",
    "            self.outputCol, (sf.col(self.inputCol) % sf.lit(10)) / sf.lit(10)\n",
    "        )"
   ]
  },
  {
   "cell_type": "markdown",
   "metadata": {},
   "source": [
    "Example how the response is generated for user-item pair"
   ]
  },
  {
   "cell_type": "code",
   "execution_count": 19,
   "metadata": {
    "cellId": "uayt15jraspro9gjta45f"
   },
   "outputs": [
    {
     "data": {
      "text/html": [
       "<div>\n",
       "<style scoped>\n",
       "    .dataframe tbody tr th:only-of-type {\n",
       "        vertical-align: middle;\n",
       "    }\n",
       "\n",
       "    .dataframe tbody tr th {\n",
       "        vertical-align: top;\n",
       "    }\n",
       "\n",
       "    .dataframe thead th {\n",
       "        text-align: right;\n",
       "    }\n",
       "</style>\n",
       "<table border=\"1\" class=\"dataframe\">\n",
       "  <thead>\n",
       "    <tr style=\"text-align: right;\">\n",
       "      <th></th>\n",
       "      <th>user_idx</th>\n",
       "      <th>item_idx</th>\n",
       "      <th>relevance</th>\n",
       "      <th>response_proba</th>\n",
       "      <th>response</th>\n",
       "    </tr>\n",
       "  </thead>\n",
       "  <tbody>\n",
       "    <tr>\n",
       "      <th>0</th>\n",
       "      <td>0</td>\n",
       "      <td>54</td>\n",
       "      <td>0.005</td>\n",
       "      <td>0.4</td>\n",
       "      <td>0</td>\n",
       "    </tr>\n",
       "    <tr>\n",
       "      <th>1</th>\n",
       "      <td>0</td>\n",
       "      <td>155</td>\n",
       "      <td>0.005</td>\n",
       "      <td>0.5</td>\n",
       "      <td>0</td>\n",
       "    </tr>\n",
       "    <tr>\n",
       "      <th>2</th>\n",
       "      <td>1</td>\n",
       "      <td>10</td>\n",
       "      <td>0.005</td>\n",
       "      <td>0.0</td>\n",
       "      <td>0</td>\n",
       "    </tr>\n",
       "    <tr>\n",
       "      <th>3</th>\n",
       "      <td>1</td>\n",
       "      <td>16</td>\n",
       "      <td>0.005</td>\n",
       "      <td>0.6</td>\n",
       "      <td>1</td>\n",
       "    </tr>\n",
       "  </tbody>\n",
       "</table>\n",
       "</div>"
      ],
      "text/plain": [
       "   user_idx  item_idx  relevance  response_proba  response\n",
       "0         0        54      0.005             0.4         0\n",
       "1         0       155      0.005             0.5         0\n",
       "2         1        10      0.005             0.0         0\n",
       "3         1        16      0.005             0.6         1"
      ]
     },
     "execution_count": 19,
     "metadata": {},
     "output_type": "execute_result"
    }
   ],
   "source": [
    "popularity_model = PopBasedTransformer(inputCol=\"item_idx\", outputCol=\"response_proba\")\n",
    "br = BernoulliResponse(inputCol=\"response_proba\", outputCol=\"response\", seed=SEED)\n",
    "response_pipeline = Pipeline(stages=[popularity_model,br])\n",
    "response_model = response_pipeline.fit(items)\n",
    "test_response = response_model.transform(pred)\n",
    "test_response.limit(5).toPandas()"
   ]
  },
  {
   "cell_type": "markdown",
   "metadata": {
    "cellId": "oklaxbiawagxloskdgy6g",
    "execution_id": "418b174f-f4be-49fe-88aa-585826871197"
   },
   "source": [
    "## (5) Fitting of new recommender model"
   ]
  },
  {
   "cell_type": "markdown",
   "metadata": {},
   "source": [
    "After receiving responses to recommendations, we can use this information to update the recommender model. To do this, we should rename column `response` to `relevance`."
   ]
  },
  {
   "cell_type": "code",
   "execution_count": 20,
   "metadata": {},
   "outputs": [
    {
     "data": {
      "text/html": [
       "<div>\n",
       "<style scoped>\n",
       "    .dataframe tbody tr th:only-of-type {\n",
       "        vertical-align: middle;\n",
       "    }\n",
       "\n",
       "    .dataframe tbody tr th {\n",
       "        vertical-align: top;\n",
       "    }\n",
       "\n",
       "    .dataframe thead th {\n",
       "        text-align: right;\n",
       "    }\n",
       "</style>\n",
       "<table border=\"1\" class=\"dataframe\">\n",
       "  <thead>\n",
       "    <tr style=\"text-align: right;\">\n",
       "      <th></th>\n",
       "      <th>user_idx</th>\n",
       "      <th>item_idx</th>\n",
       "      <th>relevance</th>\n",
       "    </tr>\n",
       "  </thead>\n",
       "  <tbody>\n",
       "    <tr>\n",
       "      <th>0</th>\n",
       "      <td>0</td>\n",
       "      <td>54</td>\n",
       "      <td>0</td>\n",
       "    </tr>\n",
       "    <tr>\n",
       "      <th>1</th>\n",
       "      <td>0</td>\n",
       "      <td>155</td>\n",
       "      <td>0</td>\n",
       "    </tr>\n",
       "    <tr>\n",
       "      <th>2</th>\n",
       "      <td>1</td>\n",
       "      <td>10</td>\n",
       "      <td>0</td>\n",
       "    </tr>\n",
       "    <tr>\n",
       "      <th>3</th>\n",
       "      <td>1</td>\n",
       "      <td>16</td>\n",
       "      <td>1</td>\n",
       "    </tr>\n",
       "  </tbody>\n",
       "</table>\n",
       "</div>"
      ],
      "text/plain": [
       "   user_idx  item_idx  relevance\n",
       "0         0        54          0\n",
       "1         0       155          0\n",
       "2         1        10          0\n",
       "3         1        16          1"
      ]
     },
     "execution_count": 20,
     "metadata": {},
     "output_type": "execute_result"
    }
   ],
   "source": [
    "new_log = test_response.drop(\"relevance\", \"response_proba\").withColumnRenamed(\n",
    "    \"response\", \"relevance\"\n",
    ")\n",
    "new_log.limit(5).toPandas()"
   ]
  },
  {
   "cell_type": "code",
   "execution_count": 21,
   "metadata": {},
   "outputs": [
    {
     "data": {
      "text/html": [
       "<div>\n",
       "<style scoped>\n",
       "    .dataframe tbody tr th:only-of-type {\n",
       "        vertical-align: middle;\n",
       "    }\n",
       "\n",
       "    .dataframe tbody tr th {\n",
       "        vertical-align: top;\n",
       "    }\n",
       "\n",
       "    .dataframe thead th {\n",
       "        text-align: right;\n",
       "    }\n",
       "</style>\n",
       "<table border=\"1\" class=\"dataframe\">\n",
       "  <thead>\n",
       "    <tr style=\"text-align: right;\">\n",
       "      <th></th>\n",
       "      <th>item_idx</th>\n",
       "      <th>relevance</th>\n",
       "    </tr>\n",
       "  </thead>\n",
       "  <tbody>\n",
       "    <tr>\n",
       "      <th>0</th>\n",
       "      <td>54</td>\n",
       "      <td>0.37233</td>\n",
       "    </tr>\n",
       "    <tr>\n",
       "      <th>1</th>\n",
       "      <td>155</td>\n",
       "      <td>0.37233</td>\n",
       "    </tr>\n",
       "    <tr>\n",
       "      <th>2</th>\n",
       "      <td>10</td>\n",
       "      <td>0.37233</td>\n",
       "    </tr>\n",
       "    <tr>\n",
       "      <th>3</th>\n",
       "      <td>16</td>\n",
       "      <td>1.37233</td>\n",
       "    </tr>\n",
       "  </tbody>\n",
       "</table>\n",
       "</div>"
      ],
      "text/plain": [
       "   item_idx  relevance\n",
       "0        54    0.37233\n",
       "1       155    0.37233\n",
       "2        10    0.37233\n",
       "3        16    1.37233"
      ]
     },
     "execution_count": 21,
     "metadata": {},
     "output_type": "execute_result"
    }
   ],
   "source": [
    "model.fit(log=new_log)\n",
    "model.item_popularity.limit(5).toPandas()"
   ]
  },
  {
   "cell_type": "markdown",
   "metadata": {
    "cellId": "ytr06uktdlrtba7yym35z",
    "execution_id": "875247d7-4576-4f2e-8524-57a90ec7b530"
   },
   "source": [
    "## (6) Quality of recommendations"
   ]
  },
  {
   "cell_type": "markdown",
   "metadata": {
    "cellId": "rlp6n6ghul6do1y9tnfs3",
    "execution_id": "c66c5616-7b51-46fb-bf64-ff3aae3560a3"
   },
   "source": [
    "Quality is the mean number of positive responses per user."
   ]
  },
  {
   "cell_type": "code",
   "execution_count": 22,
   "metadata": {
    "cellId": "ggmpn0ggz9nq4qt06ubae"
   },
   "outputs": [
    {
     "data": {
      "text/plain": [
       "0.5"
      ]
     },
     "execution_count": 22,
     "metadata": {},
     "output_type": "execute_result"
    }
   ],
   "source": [
    "calc_metric(test_response)"
   ]
  },
  {
   "cell_type": "markdown",
   "metadata": {
    "cellId": "o0o3kq6tjrs7tuvbdikavd",
    "execution_id": "7c137458-8817-41ef-aa39-c255fe3286f6"
   },
   "source": [
    "# Training the model in the simulator"
   ]
  },
  {
   "cell_type": "code",
   "execution_count": 23,
   "metadata": {
    "cellId": "kkg4h3xdwqhgpk4gs9y37m"
   },
   "outputs": [],
   "source": [
    "%%bash -s \"$CHECKPOINT_DIR\"\n",
    "rm -rf $1"
   ]
  },
  {
   "cell_type": "markdown",
   "metadata": {
    "cellId": "wkff236bnjdemsw693fj6s",
    "execution_id": "2f344684-ba2b-4d19-9079-527e6e2d7969"
   },
   "source": [
    "## Simulator initialization"
   ]
  },
  {
   "cell_type": "code",
   "execution_count": 24,
   "metadata": {
    "cellId": "9eplt0wb7cnd273dkt5n6"
   },
   "outputs": [],
   "source": [
    "user_generator.initSeedSequence(SEED)\n",
    "item_generator.initSeedSequence(SEED)\n",
    "\n",
    "sim = Simulator(\n",
    "    user_gen=user_generator,\n",
    "    item_gen=item_generator,\n",
    "    data_dir=f'{CHECKPOINT_DIR}/pipeline',\n",
    "    user_key_col='user_idx',\n",
    "    item_key_col='item_idx',\n",
    "    spark_session=spark\n",
    ")"
   ]
  },
  {
   "cell_type": "markdown",
   "metadata": {
    "cellId": "32xq7dw4q0uk4bwf04bzac",
    "execution_id": "5a37dcac-ecb3-4c8a-b613-96059682e31d"
   },
   "source": [
    "### Check that the format is correct"
   ]
  },
  {
   "cell_type": "code",
   "execution_count": 25,
   "metadata": {
    "cellId": "mz1tro3j75j8a8hcuvjvl7"
   },
   "outputs": [
    {
     "name": "stderr",
     "output_type": "stream",
     "text": [
      "                                                                                \r"
     ]
    }
   ],
   "source": [
    "pred = model.predict(log=None, users=users.limit(10), items=items, k=K)\n",
    "\n",
    "assert pred.columns == [\"user_idx\", \"item_idx\", \"relevance\"]\n",
    "assert (\n",
    "    pred.groupBy(\"user_idx\")\n",
    "    .agg(sf.countDistinct(\"item_idx\").alias(\"num_items\"))\n",
    "    .filter(sf.col(\"num_items\") == sf.lit(K))\n",
    "    .count()\n",
    "    == 10\n",
    ")\n",
    "assert (\n",
    "    pred.groupBy(\"user_idx\")\n",
    "    .agg(sf.count(\"item_idx\").alias(\"num_items\"))\n",
    "    .filter(sf.col(\"num_items\") == sf.lit(K))\n",
    "    .count()\n",
    "    == 10\n",
    ")"
   ]
  },
  {
   "cell_type": "markdown",
   "metadata": {
    "cellId": "363j2r5xezoduowlgowzy8",
    "execution_id": "23bcc021-9eb1-4d41-b46b-6a05442fd92e"
   },
   "source": [
    "## Response function initialization"
   ]
  },
  {
   "cell_type": "code",
   "execution_count": 26,
   "metadata": {
    "cellId": "0gtzwgls0htlluzisn2m2"
   },
   "outputs": [],
   "source": [
    "response_model = response_pipeline.fit(items)"
   ]
  },
  {
   "cell_type": "markdown",
   "metadata": {
    "cellId": "1t5x6egzvjmz7yk9tc7gf",
    "execution_id": "50e4dc71-1b47-4832-af9f-efcd08b5b47c"
   },
   "source": [
    "## Simulation cycle"
   ]
  },
  {
   "cell_type": "code",
   "execution_count": 27,
   "metadata": {
    "cellId": "9xd6azbslgcdb0hsl7sm"
   },
   "outputs": [
    {
     "data": {
      "image/png": "[encoded data removed]",
      "text/plain": [
       "<Figure size 640x480 with 1 Axes>"
      ]
     },
     "metadata": {},
     "output_type": "display_data"
    },
    {
     "name": "stdout",
     "output_type": "stream",
     "text": [
      "Iteration 4 finished in 51.38935136795044 sec.\n"
     ]
    }
   ],
   "source": [
    "metrics = []\n",
    "for i in range(NUM_ITER):\n",
    "    print(f\"Iteration {i} started\")\n",
    "    iter_time = time.time()\n",
    "    # visiting users\n",
    "    current_users = sim.sample_users(0.1).cache()\n",
    "    # history of interactions\n",
    "    log = sim.get_log(users)\n",
    "    # getting recommendations from the recommender system\n",
    "    recs = model.predict(\n",
    "        log=log, k=5, users=current_users, items=items, filter_seen_items=False\n",
    "    )\n",
    "    # getting responses\n",
    "    true_resp = sim.sample_responses(\n",
    "        recs_df=recs,\n",
    "        user_features=current_users,\n",
    "        item_features=items,\n",
    "        action_models=response_model,\n",
    "    )\n",
    "    # update the interaction history\n",
    "    sim.update_log(true_resp, iteration=i)\n",
    "    # measure quality\n",
    "    metrics.append(calc_metric(true_resp))\n",
    "    # refitting the model\n",
    "    model._clear_cache()\n",
    "    train_log = sim.log\n",
    "    model.fit(\n",
    "        log=train_log.select(\"user_idx\", \"item_idx\", \"response\").withColumnRenamed(\n",
    "            \"response\", \"relevance\"\n",
    "        )\n",
    "    )\n",
    "\n",
    "    current_users.unpersist()\n",
    "    if log is not None:\n",
    "        log.unpersist()\n",
    "    recs.unpersist()\n",
    "    true_resp.unpersist()\n",
    "    train_log.unpersist()\n",
    "\n",
    "    plot_metric(metrics)\n",
    "    print(f\"Iteration {i} finished in {time.time() - iter_time} sec.\")"
   ]
  },
  {
   "cell_type": "code",
   "execution_count": 28,
   "metadata": {
    "cellId": "zpg8amfm8mvopmyulehl9"
   },
   "outputs": [
    {
     "name": "stdout",
     "output_type": "stream",
     "text": [
      "+--------+--------+--------------------+--------------+--------+------+\n",
      "|item_idx|user_idx|           relevance|response_proba|response|__iter|\n",
      "+--------+--------+--------------------+--------------+--------+------+\n",
      "|      36|      11|0.008283327970530089|           0.6|       0|     1|\n",
      "|       9|      11|0.008227152148671986|           0.9|       1|     1|\n",
      "+--------+--------+--------------------+--------------+--------+------+\n",
      "only showing top 2 rows\n",
      "\n"
     ]
    }
   ],
   "source": [
    "sim.log.filter(sf.col(\"__iter\") == 1).show(2)"
   ]
  },
  {
   "cell_type": "markdown",
   "metadata": {},
   "source": [
    "# Final prediction"
   ]
  },
  {
   "cell_type": "code",
   "execution_count": 29,
   "metadata": {
    "cellId": "s06ebpys4j0613t0tm6h5p"
   },
   "outputs": [
    {
     "name": "stderr",
     "output_type": "stream",
     "text": [
      "                                                                                \r"
     ]
    }
   ],
   "source": [
    "recs = model.predict(\n",
    "    log=sim.log,\n",
    "    k=K,\n",
    "    users=users,\n",
    "    items=items,\n",
    "    filter_seen_items=False\n",
    ").cache()"
   ]
  },
  {
   "cell_type": "code",
   "execution_count": 30,
   "metadata": {
    "cellId": "jkr7id6a4fotox3u6qyrn"
   },
   "outputs": [
    {
     "name": "stderr",
     "output_type": "stream",
     "text": [
      "[Stage 409:>                                                        (0 + 1) / 1]\r"
     ]
    },
    {
     "name": "stdout",
     "output_type": "stream",
     "text": [
      "Average number of items purchased per user after model training = 2.8967\n"
     ]
    },
    {
     "name": "stderr",
     "output_type": "stream",
     "text": [
      "                                                                                \r"
     ]
    }
   ],
   "source": [
    "# responses\n",
    "true_resp = sim.sample_responses(\n",
    "    recs_df=recs, user_features=users, item_features=items, action_models=response_model\n",
    ").cache()\n",
    "\n",
    "# quality\n",
    "print(\n",
    "    f\"Average number of items purchased per user after model training = {calc_metric(true_resp)}\"\n",
    ")"
   ]
  },
  {
   "cell_type": "code",
   "execution_count": 31,
   "metadata": {
    "cellId": "yangpy3fohj3mn1c5yz2bf"
   },
   "outputs": [
    {
     "data": {
      "text/plain": [
       "DataFrame[item_idx: int, user_idx: int, relevance: double, response_proba: double, response: int]"
      ]
     },
     "execution_count": 31,
     "metadata": {},
     "output_type": "execute_result"
    }
   ],
   "source": [
    "recs.unpersist()\n",
    "true_resp.unpersist()"
   ]
  },
  {
   "cell_type": "code",
   "execution_count": 32,
   "metadata": {
    "cellId": "p8gg6nh7uua3kdxoc8x7wn"
   },
   "outputs": [
    {
     "name": "stdout",
     "output_type": "stream",
     "text": [
      "+--------+------------------+\n",
      "|item_idx|         relevance|\n",
      "+--------+------------------+\n",
      "|     179|1.0470321553521966|\n",
      "|      79|1.0262914981136138|\n",
      "|      59|1.0255267790081104|\n",
      "|     169|1.0215844167045316|\n",
      "|      39|1.0108198940700257|\n",
      "|     119| 1.010309437787467|\n",
      "|     149|1.0076124381846867|\n",
      "|     139|0.9972037528118562|\n",
      "|     129|0.9956026741489598|\n",
      "|      19|0.9932687144919815|\n",
      "|       9|0.9932687144919815|\n",
      "|     189|0.9926462656346515|\n",
      "|      99|0.9913506408893762|\n",
      "|     188|0.9836770994776983|\n",
      "|      28|0.9802395297782651|\n",
      "|     109|0.9777765802136702|\n",
      "|      29|0.9751056083557399|\n",
      "|      49|0.9689038364412762|\n",
      "|     159|0.9672559122960707|\n",
      "|     199|0.9639047251239821|\n",
      "+--------+------------------+\n",
      "only showing top 20 rows\n",
      "\n"
     ]
    }
   ],
   "source": [
    "model.item_popularity.orderBy(sf.col('relevance').desc()).show()"
   ]
  },
  {
   "cell_type": "code",
   "execution_count": null,
   "metadata": {},
   "outputs": [],
   "source": []
  }
 ],
 "metadata": {
  "kernelspec": {
   "display_name": "env39_sim4rec_demo_new",
   "language": "python",
   "name": "env39_sim4rec_demo_new"
  },
  "language_info": {
   "codemirror_mode": {
    "name": "ipython",
    "version": 3
   },
   "file_extension": ".py",
   "mimetype": "text/x-python",
   "name": "python",
   "nbconvert_exporter": "python",
   "pygments_lexer": "ipython3",
   "version": "3.9.19"
  },
  "notebookId": "cd4e698e-7892-45e1-a7aa-fe1453f4b402",
  "notebookPath": "sources/sim4rec/sber-simulator-main/task_1.ipynb",
  "vscode": {
   "interpreter": {
    "hash": "0c23ac1ac3d03469769ffca4283c7852312778d94b2cbd9b1a60eeafc1c4055f"
   }
  }
 },
 "nbformat": 4,
 "nbformat_minor": 4
}
